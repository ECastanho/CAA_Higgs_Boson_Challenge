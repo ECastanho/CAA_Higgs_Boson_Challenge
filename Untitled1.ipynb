{
 "cells": [
  {
   "cell_type": "markdown",
   "metadata": {},
   "source": [
    "Implementing Naive Bayes Using Scikit-Learn"
   ]
  },
  {
   "cell_type": "code",
   "execution_count": 127,
   "metadata": {},
   "outputs": [
    {
     "name": "stdout",
     "output_type": "stream",
     "text": [
      "Populating the interactive namespace from numpy and matplotlib\n"
     ]
    },
    {
     "name": "stderr",
     "output_type": "stream",
     "text": [
      "C:\\Users\\Eduar\\Anaconda3\\lib\\site-packages\\IPython\\core\\magics\\pylab.py:160: UserWarning: pylab import has clobbered these variables: ['power', 'linalg', 'random', 'info', 'fft']\n",
      "`%matplotlib` prevents importing * from pylab and numpy\n",
      "  \"\\n`%matplotlib` prevents importing * from pylab and numpy\"\n"
     ]
    }
   ],
   "source": [
    "import random,string,math,csv\n",
    "import pandas as pd\n",
    "import numpy as np\n",
    "import seaborn as sns\n",
    "import matplotlib\n",
    "from pylab import *\n",
    "%pylab inline\n",
    "from sklearn.naive_bayes import GaussianNB"
   ]
  },
  {
   "cell_type": "code",
   "execution_count": 128,
   "metadata": {},
   "outputs": [],
   "source": [
    "#random seed\n",
    "np.random.seed(42)"
   ]
  },
  {
   "cell_type": "code",
   "execution_count": 129,
   "metadata": {},
   "outputs": [],
   "source": [
    "data_train =  np.loadtxt( 'training.csv', delimiter=',', skiprows=1, converters={32: lambda x:int(x=='s'.encode('utf-8')) } )"
   ]
  },
  {
   "cell_type": "code",
   "execution_count": 130,
   "metadata": {},
   "outputs": [
    {
     "data": {
      "text/plain": [
       "array([ 138.47 ,  160.937, -999.   , ...,  105.457,   94.951, -999.   ])"
      ]
     },
     "execution_count": 130,
     "metadata": {},
     "output_type": "execute_result"
    }
   ],
   "source": [
    "data_train[:,1]"
   ]
  },
  {
   "cell_type": "code",
   "execution_count": 131,
   "metadata": {},
   "outputs": [],
   "source": [
    "data_train = np.where(data_train==-999.0,0., data_train) "
   ]
  },
  {
   "cell_type": "code",
   "execution_count": 132,
   "metadata": {},
   "outputs": [
    {
     "data": {
      "text/plain": [
       "array([138.47 , 160.937,   0.   , ..., 105.457,  94.951,   0.   ])"
      ]
     },
     "execution_count": 132,
     "metadata": {},
     "output_type": "execute_result"
    }
   ],
   "source": [
    "data_train[:,1]"
   ]
  },
  {
   "cell_type": "code",
   "execution_count": 133,
   "metadata": {},
   "outputs": [],
   "source": [
    "r =np.random.rand(data_train.shape[0])"
   ]
  },
  {
   "cell_type": "code",
   "execution_count": 134,
   "metadata": {},
   "outputs": [
    {
     "name": "stdout",
     "output_type": "stream",
     "text": [
      "Assigning data to numpy arrays.\n"
     ]
    }
   ],
   "source": [
    "# Put Y(truth), X(data), W(weight), and I(index) into their own arrays\n",
    "print('Assigning data to numpy arrays.')\n",
    "\n",
    "p = 0.7;\n",
    "# First 90% are training\n",
    "Y_train = data_train[:,32][r<p]\n",
    "X_train = data_train[:,1:31][r<p]\n",
    "W_train = data_train[:,31][r<p]\n",
    "# Lirst 10% are validation\n",
    "Y_valid = data_train[:,32][r>=p]\n",
    "X_valid = data_train[:,1:31][r>=p]\n",
    "W_valid = data_train[:,31][r>=p]"
   ]
  },
  {
   "cell_type": "code",
   "execution_count": 135,
   "metadata": {},
   "outputs": [],
   "source": [
    "clf = GaussianNB()"
   ]
  },
  {
   "cell_type": "code",
   "execution_count": 136,
   "metadata": {},
   "outputs": [
    {
     "data": {
      "text/plain": [
       "GaussianNB(priors=None, var_smoothing=1e-09)"
      ]
     },
     "execution_count": 136,
     "metadata": {},
     "output_type": "execute_result"
    }
   ],
   "source": [
    "clf.fit(X_train,Y_train,W_train)"
   ]
  },
  {
   "cell_type": "code",
   "execution_count": 137,
   "metadata": {},
   "outputs": [],
   "source": [
    "prob_predict_train = clf.predict_proba(X_train)[:,1]\n",
    "prob_predict_valid = clf.predict_proba(X_valid)[:,1]"
   ]
  },
  {
   "cell_type": "code",
   "execution_count": 138,
   "metadata": {},
   "outputs": [],
   "source": [
    "def AMSScore(s,b): \n",
    "    return  math.sqrt (2.*( (s + b + 10.)*math.log(1.+s/(b+10.))-s))"
   ]
  },
  {
   "cell_type": "code",
   "execution_count": 139,
   "metadata": {},
   "outputs": [],
   "source": [
    "amstrain = [];\n",
    "amsvalid  = [];\n",
    "\n",
    "for i in range(1,100):\n",
    "    pcut = np.percentile(prob_predict_train,i)\n",
    "    #print(i)\n",
    "    # This are the final signal and background predictions\n",
    "    Yhat_train = prob_predict_train > pcut \n",
    "    Yhat_valid = prob_predict_valid > pcut\n",
    "\n",
    "    # To calculate the AMS data, first get the true positives and true negatives\n",
    "    # Scale the weights according to the r cutoff.\n",
    "    TruePositive_train = W_train*(Y_train==1.0)*(1.0/0.9)\n",
    "    TrueNegative_train = W_train*(Y_train==0.0)*(1.0/0.9)\n",
    "    TruePositive_valid = W_valid*(Y_valid==1.0)*(1.0/0.1)\n",
    "    TrueNegative_valid = W_valid*(Y_valid==0.0)*(1.0/0.1)\n",
    "\n",
    "    # s and b for the training \n",
    "    s_train = sum ( TruePositive_train*(Yhat_train==1.0) )\n",
    "    b_train = sum ( TrueNegative_train*(Yhat_train==1.0) )\n",
    "    s_valid = sum ( TruePositive_valid*(Yhat_valid==1.0) )\n",
    "    b_valid = sum ( TrueNegative_valid*(Yhat_valid==1.0) )\n",
    "    \n",
    "    amstrain.append(AMSScore(s_train,b_train))\n",
    "    amsvalid.append(AMSScore(s_valid,b_valid))"
   ]
  },
  {
   "cell_type": "code",
   "execution_count": 140,
   "metadata": {},
   "outputs": [
    {
     "data": {
      "text/plain": [
       "[<matplotlib.lines.Line2D at 0x1dbbf895f28>]"
      ]
     },
     "execution_count": 140,
     "metadata": {},
     "output_type": "execute_result"
    },
    {
     "data": {
      "image/png": "[encoded data removed]",
      "text/plain": [
       "<Figure size 432x288 with 1 Axes>"
      ]
     },
     "metadata": {
      "needs_background": "light"
     },
     "output_type": "display_data"
    }
   ],
   "source": [
    "plt.plot(amsvalid)\n",
    "plt.plot(amstrain)"
   ]
  },
  {
   "cell_type": "code",
   "execution_count": 141,
   "metadata": {},
   "outputs": [],
   "source": [
    "#Olhómetro\n",
    "\n",
    "pcut = 0.40"
   ]
  },
  {
   "cell_type": "code",
   "execution_count": 142,
   "metadata": {},
   "outputs": [],
   "source": [
    "data_test = np.loadtxt( 'test.csv', delimiter=',', skiprows=1 )\n",
    "X_test = data_test[:,1:31]"
   ]
  },
  {
   "cell_type": "code",
   "execution_count": 143,
   "metadata": {},
   "outputs": [
    {
     "data": {
      "image/png": "[encoded data removed]",
      "text/plain": [
       "<Figure size 432x288 with 1 Axes>"
      ]
     },
     "metadata": {
      "needs_background": "light"
     },
     "output_type": "display_data"
    }
   ],
   "source": [
    "\n",
    "Classifier_training_S = clf.predict_proba(X_train[Y_train>0.5])[:,1].ravel()\n",
    "Classifier_training_B = clf.predict_proba(X_train[Y_train<0.5])[:,1].ravel()\n",
    "\n",
    "\n",
    "#Classifier_testing_A = clf.predict_proba(X_test)[:,1].ravel()\n",
    "  \n",
    "#c_max = max([Classifier_training_S.max(),Classifier_training_B.max(),Classifier_testing_A.max()])\n",
    "#c_min = min([Classifier_training_S.min(),Classifier_training_B.min(),Classifier_testing_A.min()])\n",
    "c_max = max([Classifier_training_S.max(),Classifier_training_B.max()])\n",
    "c_min = min([Classifier_training_S.min(),Classifier_training_B.min()])\n",
    "  \n",
    "# Get histograms of the classifiers\n",
    "Histo_training_S = np.histogram(Classifier_training_S,bins=50,range=(c_min,c_max))\n",
    "Histo_training_B = np.histogram(Classifier_training_B,bins=50,range=(c_min,c_max))\n",
    "#Histo_testing_A = np.histogram(Classifier_testing_A,bins=50,range=(c_min,c_max))\n",
    "  \n",
    "# Lets get the min/max of the Histograms\n",
    "AllHistos= [Histo_training_S,Histo_training_B]\n",
    "h_max = max([histo[0].max() for histo in AllHistos])*1.2\n",
    "# h_min = max([histo[0].min() for histo in AllHistos])\n",
    "h_min = 1.0\n",
    "  \n",
    "# Get the histogram properties (binning, widths, centers)\n",
    "bin_edges = Histo_training_S[1]\n",
    "bin_centers = ( bin_edges[:-1] + bin_edges[1:]  ) /2.\n",
    "bin_widths = (bin_edges[1:] - bin_edges[:-1])\n",
    "  \n",
    "# To make error bar plots for the data, take the Poisson uncertainty sqrt(N)\n",
    "#ErrorBar_testing_A = np.sqrt(Histo_testing_A[0])\n",
    "# ErrorBar_testing_B = np.sqrt(Histo_testing_B[0])\n",
    "  \n",
    "# Draw objects\n",
    "ax1 = plt.subplot(111)\n",
    "  \n",
    "# Draw solid histograms for the training data\n",
    "ax1.bar(bin_centers-bin_widths/2.,Histo_training_B[0],facecolor='red',linewidth=0,width=bin_widths,label='B (Train)',alpha=0.5)\n",
    "ax1.bar(bin_centers-bin_widths/2.,Histo_training_S[0],bottom=Histo_training_B[0],facecolor='blue',linewidth=0,width=bin_widths,label='S (Train)',alpha=0.5)\n",
    " \n",
    "#ff = (1.0*(sum(Histo_training_S[0])+sum(Histo_training_B[0])))/(1.0*sum(Histo_testing_A[0]))\n",
    " \n",
    "# # Draw error-bar histograms for the testing data\n",
    "#ax1.errorbar(bin_centers, ff*Histo_testing_A[0], yerr=ff*ErrorBar_testing_A, xerr=None, ecolor='black',c='black',fmt='.',label='Test (reweighted)')\n",
    "# ax1.errorbar(bin_centers, Histo_testing_B[0], yerr=ErrorBar_testing_B, xerr=None, ecolor='red',c='red',fmt='o',label='B (Test)')\n",
    "  \n",
    "# Make a colorful backdrop to show the clasification regions in red and blue\n",
    "ax1.axvspan(pcut, c_max, color='blue',alpha=0.08)\n",
    "ax1.axvspan(c_min,pcut, color='red',alpha=0.08)\n",
    "  \n",
    "# Adjust the axis boundaries (just cosmetic)\n",
    "ax1.axis([c_min, c_max, h_min, h_max])\n",
    "  \n",
    "ax1.set_yscale('log')\n",
    "    \n",
    "# Make labels and title\n",
    "plt.title(\"Higgs Kaggle Signal-Background Separation\")\n",
    "plt.xlabel(\"Probability Output (Gradient Boosting)\")\n",
    "plt.ylabel(\"Counts/Bin\")\n",
    " \n",
    "# Make legend with smalll font\n",
    "legend = ax1.legend(loc='upper center', shadow=True,ncol=2)\n",
    "for alabel in legend.get_texts():\n",
    "            alabel.set_fontsize('small')\n",
    "  \n",
    "# Save the result to png\n",
    "plt.savefig(\"Sklearn_gbc.png\")"
   ]
  },
  {
   "cell_type": "markdown",
   "metadata": {},
   "source": [
    "## Calculating Test"
   ]
  },
  {
   "cell_type": "code",
   "execution_count": null,
   "metadata": {},
   "outputs": [],
   "source": [
    "test = list(csv.reader(open(\"test.csv\",\"r\"), delimiter=','))\n",
    "\n",
    "test = np.where(test==-999.0,0., test) "
   ]
  },
  {
   "cell_type": "code",
   "execution_count": null,
   "metadata": {},
   "outputs": [],
   "source": [
    "xsTest = np.array(test)[1:,1:].astype(float)\n",
    "testIds = np.array([int(row[0]) for row in test[1:]])"
   ]
  },
  {
   "cell_type": "code",
   "execution_count": 150,
   "metadata": {},
   "outputs": [],
   "source": [
    "#xsTest"
   ]
  },
  {
   "cell_type": "code",
   "execution_count": 146,
   "metadata": {},
   "outputs": [],
   "source": [
    "def score(x):\n",
    "    logP = 0\n",
    "    for fI in range(numFeatures):\n",
    "        bI = 0\n",
    "        # linear search for the bin index of the fIth feature\n",
    "        # of the signal\n",
    "        while bI < len(binMaxs[fI]) - 1 and x[fI] > binMaxs[fI, bI]:\n",
    "            bI += 1\n",
    "        logP += logPs[fI, bI] - math.log(0.5)\n",
    "    return logP"
   ]
  },
  {
   "cell_type": "code",
   "execution_count": 147,
   "metadata": {},
   "outputs": [],
   "source": [
    "testScores = np.array(score(x) for x in xsTest)"
   ]
  },
  {
   "cell_type": "code",
   "execution_count": 148,
   "metadata": {},
   "outputs": [],
   "source": [
    "testInversePermutation = np.array(testScores).argsort()\n",
    "testPermutation = list(testInversePermutation)\n",
    "for tI,tII in zip(range(len(testInversePermutation)),\n",
    "                  testInversePermutation):\n",
    "    testPermutation[tII] = tI\n"
   ]
  },
  {
   "cell_type": "code",
   "execution_count": null,
   "metadata": {},
   "outputs": [],
   "source": [
    "clf.predict_proba(xsTest)"
   ]
  }
 ],
 "metadata": {
  "kernelspec": {
   "display_name": "Python 3",
   "language": "python",
   "name": "python3"
  },
  "language_info": {
   "codemirror_mode": {
    "name": "ipython",
    "version": 3
   },
   "file_extension": ".py",
   "mimetype": "text/x-python",
   "name": "python",
   "nbconvert_exporter": "python",
   "pygments_lexer": "ipython3",
   "version": "3.7.3"
  }
 },
 "nbformat": 4,
 "nbformat_minor": 2
}
