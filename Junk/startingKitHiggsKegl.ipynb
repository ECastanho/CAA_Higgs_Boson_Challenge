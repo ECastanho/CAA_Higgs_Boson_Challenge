{
 "cells": [
  {
   "cell_type": "markdown",
   "metadata": {},
   "source": [
    "# Starting kit for the Higgs boson machine learning challenge"
   ]
  },
  {
   "cell_type": "markdown",
   "metadata": {},
   "source": [
    "This notebook contains a starting kit for the <a href=\"https://www.kaggle.com/c/higgs-boson\">\n",
    "Higgs boson machine learning challenge</a>. Download the training set (called <code>training.csv</code>) and the test set (<code>test.csv</code>), then execute cells in order."
   ]
  },
  {
   "cell_type": "code",
   "execution_count": 1,
   "metadata": {},
   "outputs": [],
   "source": [
    "import random,string,math,csv\n",
    "import numpy as np\n",
    "import matplotlib.pyplot as plt"
   ]
  },
  {
   "cell_type": "markdown",
   "metadata": {},
   "source": [
    "## Reading an formatting training data"
   ]
  },
  {
   "cell_type": "code",
   "execution_count": 2,
   "metadata": {},
   "outputs": [],
   "source": [
    "#all = list(csv.reader(open(\"training.csv\",\"rb\"), delimiter=','))\n",
    "all = list(csv.reader(open(\"training.csv\",\"r\"), delimiter=','))\n",
    "#all\n",
    "\n"
   ]
  },
  {
   "cell_type": "markdown",
   "metadata": {},
   "source": [
    "Slicing off header row and id, weight, and label columns."
   ]
  },
  {
   "cell_type": "code",
   "execution_count": 3,
   "metadata": {},
   "outputs": [
    {
     "name": "stdout",
     "output_type": "stream",
     "text": [
      "250001\n",
      "33\n"
     ]
    }
   ],
   "source": [
    "#xs = np.array([map(float, row[1:-2]) for row in all[1:]])\n",
    "#(numPoints,numFeatures) = xs.shape\n",
    "\n",
    "print(len(all))\n",
    "print(len(all[0]))"
   ]
  },
  {
   "cell_type": "code",
   "execution_count": 4,
   "metadata": {},
   "outputs": [],
   "source": [
    "xs = np.array(all)[1:,1:(33-2)].astype(float)"
   ]
  },
  {
   "cell_type": "code",
   "execution_count": 5,
   "metadata": {},
   "outputs": [],
   "source": [
    "(numPoints,numFeatures) = xs.shape"
   ]
  },
  {
   "cell_type": "markdown",
   "metadata": {},
   "source": [
    "Perturbing features to avoid ties. It's far from optimal but makes life easier in this simple example."
   ]
  },
  {
   "cell_type": "code",
   "execution_count": 6,
   "metadata": {},
   "outputs": [],
   "source": [
    "xs = np.add(xs, np.random.normal(0.0, 0.0001, xs.shape))\n",
    "\n",
    "#print(np.random.normal(0.0, 0.0001, xs.shape))\n",
    "#print(xs)"
   ]
  },
  {
   "cell_type": "markdown",
   "metadata": {},
   "source": [
    "Label selectors."
   ]
  },
  {
   "cell_type": "code",
   "execution_count": 7,
   "metadata": {},
   "outputs": [],
   "source": [
    "sSelector = np.array([row[-1] == 's' for row in all[1:]])\n",
    "bSelector = np.array([row[-1] == 'b' for row in all[1:]])"
   ]
  },
  {
   "cell_type": "markdown",
   "metadata": {},
   "source": [
    "Weights and weight sums."
   ]
  },
  {
   "cell_type": "code",
   "execution_count": 8,
   "metadata": {},
   "outputs": [],
   "source": [
    "weights = np.array([float(row[-2]) for row in all[1:]])\n",
    "sumWeights = np.sum(weights)\n",
    "sumSWeights = np.sum(weights[sSelector])\n",
    "sumBWeights = np.sum(weights[bSelector])"
   ]
  },
  {
   "cell_type": "markdown",
   "metadata": {},
   "source": [
    "## Training and validation cuts"
   ]
  },
  {
   "cell_type": "markdown",
   "metadata": {},
   "source": [
    "We will train a classifier on a random training set for minimizing the weighted error with balanced weights, then we will maximize the AMS on the held out validation set."
   ]
  },
  {
   "cell_type": "code",
   "execution_count": 9,
   "metadata": {},
   "outputs": [],
   "source": [
    "randomPermutation = random.sample(range(len(xs)), len(xs))\n",
    "numPointsTrain = int(numPoints*0.9)\n",
    "numPointsValidation = numPoints - numPointsTrain\n",
    "\n",
    "xsTrain = xs[randomPermutation[:numPointsTrain]]\n",
    "xsValidation = xs[randomPermutation[numPointsTrain:]]\n",
    "\n",
    "sSelectorTrain = sSelector[randomPermutation[:numPointsTrain]]\n",
    "bSelectorTrain = bSelector[randomPermutation[:numPointsTrain]]\n",
    "sSelectorValidation = sSelector[randomPermutation[numPointsTrain:]]\n",
    "bSelectorValidation = bSelector[randomPermutation[numPointsTrain:]]\n",
    "\n",
    "weightsTrain = weights[randomPermutation[:numPointsTrain]]\n",
    "weightsValidation = weights[randomPermutation[numPointsTrain:]]\n",
    "\n",
    "sumWeightsTrain = np.sum(weightsTrain)\n",
    "sumSWeightsTrain = np.sum(weightsTrain[sSelectorTrain])\n",
    "sumBWeightsTrain = np.sum(weightsTrain[bSelectorTrain])"
   ]
  },
  {
   "cell_type": "code",
   "execution_count": 10,
   "metadata": {},
   "outputs": [],
   "source": [
    "xsTrainTranspose = xsTrain.transpose()"
   ]
  },
  {
   "cell_type": "markdown",
   "metadata": {},
   "source": [
    "Making signal and background weights sum to $1/2$ each to emulate uniform priors $p(s)=p(b)=1/2$."
   ]
  },
  {
   "cell_type": "code",
   "execution_count": 11,
   "metadata": {},
   "outputs": [],
   "source": [
    "weightsBalancedTrain = np.array([0.5 * weightsTrain[i]/sumSWeightsTrain\n",
    "                                 if sSelectorTrain[i]\n",
    "                                 else 0.5 * weightsTrain[i]/sumBWeightsTrain\\\n",
    "                                 for i in range(numPointsTrain)])"
   ]
  },
  {
   "cell_type": "markdown",
   "metadata": {},
   "source": [
    "## Training naive Bayes and defining the score function"
   ]
  },
  {
   "cell_type": "markdown",
   "metadata": {},
   "source": [
    "Number of bins per dimension for binned naive Bayes."
   ]
  },
  {
   "cell_type": "code",
   "execution_count": 12,
   "metadata": {},
   "outputs": [],
   "source": [
    "numBins = 10"
   ]
  },
  {
   "cell_type": "markdown",
   "metadata": {},
   "source": [
    "<code>logPs[fI,bI]</code> will be the log probability of a data point <code>x</code> with <code>binMaxs[bI - 1] < x[fI] <= binMaxs[bI]</code> (with <code>binMaxs[-1] = -</code>$\\infty$ by convention) being a signal under uniform priors $p(\\text{s}) = p(\\text{b}) = 1/2$."
   ]
  },
  {
   "cell_type": "code",
   "execution_count": 13,
   "metadata": {},
   "outputs": [],
   "source": [
    "logPs = np.empty([numFeatures, numBins])\n",
    "binMaxs = np.empty([numFeatures, numBins])\n",
    "binIndexes = np.array(range(0, numPointsTrain+1, numPointsTrain//numBins))\n"
   ]
  },
  {
   "cell_type": "code",
   "execution_count": 14,
   "metadata": {},
   "outputs": [],
   "source": [
    "for fI in range(numFeatures):\n",
    "    # index permutation of sorted feature column\n",
    "    indexes = xsTrainTranspose[fI].argsort()\n",
    "\n",
    "    for bI in range(numBins):\n",
    "        # upper bin limits\n",
    "        binMaxs[fI, bI] = xsTrainTranspose[fI, indexes[binIndexes[bI+1]-1]]\n",
    "        # training indices of points in a bin\n",
    "        indexesInBin = indexes[binIndexes[bI]:binIndexes[bI+1]]\n",
    "        # sum of signal weights in bin\n",
    "        wS = np.sum(weightsBalancedTrain[indexesInBin]\n",
    "                    [sSelectorTrain[indexesInBin]])\n",
    "        # sum of background weights in bin\n",
    "        wB = np.sum(weightsBalancedTrain[indexesInBin]\n",
    "                    [bSelectorTrain[indexesInBin]])\n",
    "        # log probability of being a signal in the bin\n",
    "        logPs[fI, bI] = math.log(wS/(wS+wB))"
   ]
  },
  {
   "cell_type": "markdown",
   "metadata": {},
   "source": [
    "The score function we will use to sort the test examples. For readability it is shifted so negative means likely background (under uniform prior) and positive means likely signal. <code>x</code> is an input vector."
   ]
  },
  {
   "cell_type": "code",
   "execution_count": 15,
   "metadata": {},
   "outputs": [],
   "source": [
    "def score(x):\n",
    "    logP = 0\n",
    "    for fI in range(numFeatures):\n",
    "        bI = 0\n",
    "        # linear search for the bin index of the fIth feature\n",
    "        # of the signal\n",
    "        while bI < len(binMaxs[fI]) - 1 and x[fI] > binMaxs[fI, bI]:\n",
    "            bI += 1\n",
    "        logP += logPs[fI, bI] - math.log(0.5)\n",
    "    return logP"
   ]
  },
  {
   "cell_type": "markdown",
   "metadata": {},
   "source": [
    "## Optimizing the AMS on the held out validation set"
   ]
  },
  {
   "cell_type": "markdown",
   "metadata": {},
   "source": [
    "The Approximate Median Significance\n",
    "\\begin{equation*}\n",
    "\\text{AMS} = \\sqrt{ 2 \\left( (s + b + 10) \\ln \\left( 1 + \\frac{s}{b +\n",
    "    10} \\right) - s \\right) }\n",
    "\\end{equation*}\n",
    "<code>s</code> and <code>b</code> are the sum of signal and background weights, respectively, in the selection region."
   ]
  },
  {
   "cell_type": "code",
   "execution_count": 16,
   "metadata": {},
   "outputs": [],
   "source": [
    "def AMS(s,b):\n",
    "    assert s >= 0\n",
    "    assert b >= 0\n",
    "    bReg = 10.\n",
    "    return math.sqrt(2 * ((s + b + bReg) * \n",
    "                          math.log(1 + s / (b + bReg)) - s))"
   ]
  },
  {
   "cell_type": "markdown",
   "metadata": {},
   "source": [
    "Computing the scores on the validation set"
   ]
  },
  {
   "cell_type": "code",
   "execution_count": 17,
   "metadata": {},
   "outputs": [],
   "source": [
    "validationScores = np.array([score(x) for x in xsValidation])"
   ]
  },
  {
   "cell_type": "markdown",
   "metadata": {},
   "source": [
    "Sorting the indices in increasing order of the scores."
   ]
  },
  {
   "cell_type": "code",
   "execution_count": 18,
   "metadata": {},
   "outputs": [],
   "source": [
    "tIIs = validationScores.argsort()"
   ]
  },
  {
   "cell_type": "markdown",
   "metadata": {},
   "source": [
    "Weights have to be normalized to the same sum as in the full set."
   ]
  },
  {
   "cell_type": "code",
   "execution_count": 19,
   "metadata": {},
   "outputs": [],
   "source": [
    "wFactor = 1.* numPoints / numPointsValidation"
   ]
  },
  {
   "cell_type": "markdown",
   "metadata": {},
   "source": [
    "Initializing $s$ and $b$ to the full sum of weights, we start by having all points in the selectiom region."
   ]
  },
  {
   "cell_type": "code",
   "execution_count": 20,
   "metadata": {},
   "outputs": [],
   "source": [
    "s = np.sum(weightsValidation[sSelectorValidation])\n",
    "b = np.sum(weightsValidation[bSelectorValidation])"
   ]
  },
  {
   "cell_type": "markdown",
   "metadata": {},
   "source": [
    "<code>amss</code> will contain AMSs after each point moved out of the selection region in the sorted validation set."
   ]
  },
  {
   "cell_type": "code",
   "execution_count": 21,
   "metadata": {},
   "outputs": [],
   "source": [
    "amss = np.empty([len(tIIs)])"
   ]
  },
  {
   "cell_type": "markdown",
   "metadata": {},
   "source": [
    "<code>amsMax</code> will contain the best validation AMS, and <code>threshold</code> will be the smallest score among the selected points."
   ]
  },
  {
   "cell_type": "code",
   "execution_count": 22,
   "metadata": {},
   "outputs": [],
   "source": [
    "amsMax = 0\n",
    "threshold = 0.0"
   ]
  },
  {
   "cell_type": "markdown",
   "metadata": {},
   "source": [
    "We will do <code>len(tIIs)</code> iterations, which means that <code>amss[-1]</code> is the AMS when only the point with the highest score is selected."
   ]
  },
  {
   "cell_type": "code",
   "execution_count": 23,
   "metadata": {},
   "outputs": [],
   "source": [
    "for tI in range(len(tIIs)):\n",
    "    # don't forget to renormalize the weights to the same sum \n",
    "    # as in the complete training set\n",
    "    amss[tI] = AMS(max(0,s * wFactor),max(0,b * wFactor))\n",
    "    if amss[tI] > amsMax:\n",
    "        amsMax = amss[tI]\n",
    "        threshold = validationScores[tIIs[tI]]\n",
    "        #print tI,threshold\n",
    "    if sSelectorValidation[tIIs[tI]]:\n",
    "        s -= weightsValidation[tIIs[tI]]\n",
    "    else:\n",
    "        b -= weightsValidation[tIIs[tI]]"
   ]
  },
  {
   "cell_type": "code",
   "execution_count": 24,
   "metadata": {},
   "outputs": [
    {
     "data": {
      "text/plain": [
       "2.049448232665019"
      ]
     },
     "execution_count": 24,
     "metadata": {},
     "output_type": "execute_result"
    }
   ],
   "source": [
    "amsMax"
   ]
  },
  {
   "cell_type": "code",
   "execution_count": 25,
   "metadata": {},
   "outputs": [
    {
     "data": {
      "text/plain": [
       "-0.08554924176178968"
      ]
     },
     "execution_count": 25,
     "metadata": {},
     "output_type": "execute_result"
    }
   ],
   "source": [
    "threshold"
   ]
  },
  {
   "cell_type": "code",
   "execution_count": 26,
   "metadata": {},
   "outputs": [
    {
     "data": {
      "text/plain": [
       "[<matplotlib.lines.Line2D at 0x13286a6c0b8>]"
      ]
     },
     "execution_count": 26,
     "metadata": {},
     "output_type": "execute_result"
    },
    {
     "data": {
      "image/png": "[encoded data removed]",
      "text/plain": [
       "<Figure size 432x288 with 1 Axes>"
      ]
     },
     "metadata": {
      "needs_background": "light"
     },
     "output_type": "display_data"
    }
   ],
   "source": [
    "plt.plot(amss)"
   ]
  },
  {
   "cell_type": "markdown",
   "metadata": {},
   "source": [
    "## Computing the permutation on the test set"
   ]
  },
  {
   "cell_type": "markdown",
   "metadata": {},
   "source": [
    "Reading the test file, slicing off the header row and the id column, and converting the data into float."
   ]
  },
  {
   "cell_type": "code",
   "execution_count": 27,
   "metadata": {},
   "outputs": [],
   "source": [
    "test = list(csv.reader(open(\"test.csv\",\"r\"), delimiter=','))"
   ]
  },
  {
   "cell_type": "code",
   "execution_count": 28,
   "metadata": {},
   "outputs": [],
   "source": [
    "xsTest = np.array(test)[1:,1:].astype(float)"
   ]
  },
  {
   "cell_type": "code",
   "execution_count": 29,
   "metadata": {},
   "outputs": [
    {
     "data": {
      "text/plain": [
       "array([-9.9900e+02,  7.9589e+01,  2.3916e+01,  3.0360e+00, -9.9900e+02,\n",
       "       -9.9900e+02, -9.9900e+02,  9.0300e-01,  3.0360e+00,  5.6018e+01,\n",
       "        1.5360e+00, -1.4040e+00, -9.9900e+02,  2.2088e+01, -5.4000e-01,\n",
       "       -6.0900e-01,  3.3930e+01, -5.0400e-01, -1.5110e+00,  4.8509e+01,\n",
       "        2.0220e+00,  9.8556e+01,  0.0000e+00, -9.9900e+02, -9.9900e+02,\n",
       "       -9.9900e+02, -9.9900e+02, -9.9900e+02, -9.9900e+02, -0.0000e+00])"
      ]
     },
     "execution_count": 29,
     "metadata": {},
     "output_type": "execute_result"
    }
   ],
   "source": [
    "xsTest[0,:]"
   ]
  },
  {
   "cell_type": "code",
   "execution_count": 30,
   "metadata": {},
   "outputs": [],
   "source": [
    "testIds = np.array([int(row[0]) for row in test[1:]])"
   ]
  },
  {
   "cell_type": "code",
   "execution_count": 31,
   "metadata": {},
   "outputs": [
    {
     "data": {
      "text/plain": [
       "array([350000, 350001, 350002, ..., 899997, 899998, 899999])"
      ]
     },
     "execution_count": 31,
     "metadata": {},
     "output_type": "execute_result"
    }
   ],
   "source": [
    "testIds"
   ]
  },
  {
   "cell_type": "markdown",
   "metadata": {},
   "source": [
    "#Computing the scores."
   ]
  },
  {
   "cell_type": "code",
   "execution_count": 32,
   "metadata": {},
   "outputs": [],
   "source": [
    "#testScores = np.array(score(x) for x in xsTest)\n",
    "testScores = []\n",
    "\n",
    "\n",
    "for i in range(len(xsTest)):\n",
    "    testScores.append(score(xsTest[i]))"
   ]
  },
  {
   "cell_type": "markdown",
   "metadata": {},
   "source": [
    "Computing the rank order."
   ]
  },
  {
   "cell_type": "code",
   "execution_count": 33,
   "metadata": {},
   "outputs": [
    {
     "data": {
      "text/plain": [
       "array([451308,  79647, 273074, ..., 519731, 113763, 146583], dtype=int64)"
      ]
     },
     "execution_count": 33,
     "metadata": {},
     "output_type": "execute_result"
    }
   ],
   "source": [
    "testInversePermutation = np.array(testScores).argsort()\n",
    "\n",
    "testInversePermutation"
   ]
  },
  {
   "cell_type": "code",
   "execution_count": 34,
   "metadata": {},
   "outputs": [],
   "source": [
    "testPermutation = list(testInversePermutation)\n",
    "for tI,tII in zip(range(len(testInversePermutation)),\n",
    "                  testInversePermutation):\n",
    "    testPermutation[tII] = tI"
   ]
  },
  {
   "cell_type": "markdown",
   "metadata": {},
   "source": [
    "Computing the submission file with columns EventId, RankOrder, and Class."
   ]
  },
  {
   "cell_type": "code",
   "execution_count": null,
   "metadata": {},
   "outputs": [],
   "source": []
  },
  {
   "cell_type": "code",
   "execution_count": 35,
   "metadata": {},
   "outputs": [],
   "source": [
    "#submission = np.array([str(testIds[tI]),str(testPermutation[tI]+1),\n",
    "                       #'s' if testScores[tI] >= threshold else 'b'] for tI in range(len(testIds)))\n",
    "submission = [];\n",
    "for tI in range(len(testIds)):\n",
    "    if testScores[tI] >= threshold:\n",
    "        submission.append([str(testIds[tI]),str(testPermutation[tI]+1),'s'])\n",
    "    else: \n",
    "        submission.append([str(testIds[tI]),str(testPermutation[tI]+1),'b'])\n",
    "submission = np.array(submission)"
   ]
  },
  {
   "cell_type": "code",
   "execution_count": 36,
   "metadata": {},
   "outputs": [],
   "source": [
    "submission = np.append([['EventId','RankOrder','Class']], submission, axis=0)"
   ]
  },
  {
   "cell_type": "markdown",
   "metadata": {},
   "source": [
    "Saving the file that can be submitted to Kaggle."
   ]
  },
  {
   "cell_type": "code",
   "execution_count": 37,
   "metadata": {},
   "outputs": [],
   "source": [
    "np.savetxt(\"./submission.csv\",submission,fmt='%s',delimiter=',')"
   ]
  },
  {
   "cell_type": "code",
   "execution_count": null,
   "metadata": {},
   "outputs": [],
   "source": []
  }
 ],
 "metadata": {
  "kernelspec": {
   "display_name": "Python 3",
   "language": "python",
   "name": "python3"
  },
  "language_info": {
   "codemirror_mode": {
    "name": "ipython",
    "version": 3
   },
   "file_extension": ".py",
   "mimetype": "text/x-python",
   "name": "python",
   "nbconvert_exporter": "python",
   "pygments_lexer": "ipython3",
   "version": "3.7.3"
  }
 },
 "nbformat": 4,
 "nbformat_minor": 2
}
